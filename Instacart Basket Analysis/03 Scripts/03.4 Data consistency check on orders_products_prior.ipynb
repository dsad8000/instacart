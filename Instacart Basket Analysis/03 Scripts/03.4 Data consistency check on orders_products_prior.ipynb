{
 "cells": [
  {
   "cell_type": "markdown",
   "id": "b953a6e4",
   "metadata": {},
   "source": [
    "# 03.4 Data consistency check on orders_products_prior"
   ]
  },
  {
   "cell_type": "markdown",
   "id": "c387bc47",
   "metadata": {},
   "source": [
    "### This script contains the following points:\n",
    "### 1. Import libraries and files\n",
    "### 2. Check for mixed data types\n",
    "### 3. Check for missing values\n",
    "### 4. Check for duplicates\n",
    "### 5. Report number of records in dataframe"
   ]
  },
  {
   "cell_type": "markdown",
   "id": "3503e25a",
   "metadata": {},
   "source": [
    "### 1. Import libraries and files"
   ]
  },
  {
   "cell_type": "code",
   "execution_count": 1,
   "id": "b0a3cefe",
   "metadata": {},
   "outputs": [],
   "source": [
    "# Import libraries\n",
    "import pandas as pd\n",
    "import numpy as np\n",
    "import os"
   ]
  },
  {
   "cell_type": "code",
   "execution_count": 16,
   "id": "a723fb98",
   "metadata": {},
   "outputs": [],
   "source": [
    "# Import csv file, path shortcut not working without error\n",
    "df_ords_prods = pd.read_csv(r'C:\\Users\\dsadl\\OneDrive\\Documents\\Career Foundry\\Data Immersion\\Project 4\\05-10-2023 Instacart Basket Analysis\\02 Data\\Original Data\\order_products__prior.csv')"
   ]
  },
  {
   "cell_type": "code",
   "execution_count": 17,
   "id": "da884673",
   "metadata": {},
   "outputs": [
    {
     "data": {
      "text/html": [
       "<div>\n",
       "<style scoped>\n",
       "    .dataframe tbody tr th:only-of-type {\n",
       "        vertical-align: middle;\n",
       "    }\n",
       "\n",
       "    .dataframe tbody tr th {\n",
       "        vertical-align: top;\n",
       "    }\n",
       "\n",
       "    .dataframe thead th {\n",
       "        text-align: right;\n",
       "    }\n",
       "</style>\n",
       "<table border=\"1\" class=\"dataframe\">\n",
       "  <thead>\n",
       "    <tr style=\"text-align: right;\">\n",
       "      <th></th>\n",
       "      <th>order_id</th>\n",
       "      <th>product_id</th>\n",
       "      <th>add_to_cart_order</th>\n",
       "      <th>reordered</th>\n",
       "    </tr>\n",
       "  </thead>\n",
       "  <tbody>\n",
       "    <tr>\n",
       "      <th>0</th>\n",
       "      <td>2</td>\n",
       "      <td>33120</td>\n",
       "      <td>1</td>\n",
       "      <td>1</td>\n",
       "    </tr>\n",
       "    <tr>\n",
       "      <th>1</th>\n",
       "      <td>2</td>\n",
       "      <td>28985</td>\n",
       "      <td>2</td>\n",
       "      <td>1</td>\n",
       "    </tr>\n",
       "    <tr>\n",
       "      <th>2</th>\n",
       "      <td>2</td>\n",
       "      <td>9327</td>\n",
       "      <td>3</td>\n",
       "      <td>0</td>\n",
       "    </tr>\n",
       "    <tr>\n",
       "      <th>3</th>\n",
       "      <td>2</td>\n",
       "      <td>45918</td>\n",
       "      <td>4</td>\n",
       "      <td>1</td>\n",
       "    </tr>\n",
       "    <tr>\n",
       "      <th>4</th>\n",
       "      <td>2</td>\n",
       "      <td>30035</td>\n",
       "      <td>5</td>\n",
       "      <td>0</td>\n",
       "    </tr>\n",
       "  </tbody>\n",
       "</table>\n",
       "</div>"
      ],
      "text/plain": [
       "   order_id  product_id  add_to_cart_order  reordered\n",
       "0         2       33120                  1          1\n",
       "1         2       28985                  2          1\n",
       "2         2        9327                  3          0\n",
       "3         2       45918                  4          1\n",
       "4         2       30035                  5          0"
      ]
     },
     "execution_count": 17,
     "metadata": {},
     "output_type": "execute_result"
    }
   ],
   "source": [
    "df_ords_prods.head()"
   ]
  },
  {
   "cell_type": "markdown",
   "id": "2b64ff5a",
   "metadata": {},
   "source": [
    "### 2. Check for mixed data types"
   ]
  },
  {
   "cell_type": "code",
   "execution_count": 18,
   "id": "0c16a9e0",
   "metadata": {},
   "outputs": [],
   "source": [
    "# Check for mixed types\n",
    "for col in df_ords_prods.columns.tolist():\n",
    "  weird = (df_ords_prods[[col]].applymap(type) != df_ords_prods[[col]].iloc[0].apply(type)).any(axis = 1)\n",
    "  if len (df_ords_prods[weird]) > 0:\n",
    "    print (col)"
   ]
  },
  {
   "cell_type": "markdown",
   "id": "2a115782",
   "metadata": {},
   "source": [
    "#### No mixed data types found"
   ]
  },
  {
   "cell_type": "markdown",
   "id": "637c2767",
   "metadata": {},
   "source": [
    "### 3. Check for missing values"
   ]
  },
  {
   "cell_type": "code",
   "execution_count": 19,
   "id": "085a101c",
   "metadata": {},
   "outputs": [
    {
     "data": {
      "text/plain": [
       "order_id             0\n",
       "product_id           0\n",
       "add_to_cart_order    0\n",
       "reordered            0\n",
       "dtype: int64"
      ]
     },
     "execution_count": 19,
     "metadata": {},
     "output_type": "execute_result"
    }
   ],
   "source": [
    "# Check for missing values\n",
    "df_ords_prods.isnull().sum()"
   ]
  },
  {
   "cell_type": "markdown",
   "id": "99c781bb",
   "metadata": {},
   "source": [
    "#### No missing values detected"
   ]
  },
  {
   "cell_type": "markdown",
   "id": "0e067bec",
   "metadata": {},
   "source": [
    "### 4. Check for duplicates"
   ]
  },
  {
   "cell_type": "code",
   "execution_count": 21,
   "id": "be0077d0",
   "metadata": {},
   "outputs": [],
   "source": [
    "df_dups = df_ords_prods[df_ords_prods.duplicated()]"
   ]
  },
  {
   "cell_type": "code",
   "execution_count": 22,
   "id": "6c103780",
   "metadata": {},
   "outputs": [
    {
     "data": {
      "text/html": [
       "<div>\n",
       "<style scoped>\n",
       "    .dataframe tbody tr th:only-of-type {\n",
       "        vertical-align: middle;\n",
       "    }\n",
       "\n",
       "    .dataframe tbody tr th {\n",
       "        vertical-align: top;\n",
       "    }\n",
       "\n",
       "    .dataframe thead th {\n",
       "        text-align: right;\n",
       "    }\n",
       "</style>\n",
       "<table border=\"1\" class=\"dataframe\">\n",
       "  <thead>\n",
       "    <tr style=\"text-align: right;\">\n",
       "      <th></th>\n",
       "      <th>order_id</th>\n",
       "      <th>product_id</th>\n",
       "      <th>add_to_cart_order</th>\n",
       "      <th>reordered</th>\n",
       "    </tr>\n",
       "  </thead>\n",
       "  <tbody>\n",
       "  </tbody>\n",
       "</table>\n",
       "</div>"
      ],
      "text/plain": [
       "Empty DataFrame\n",
       "Columns: [order_id, product_id, add_to_cart_order, reordered]\n",
       "Index: []"
      ]
     },
     "execution_count": 22,
     "metadata": {},
     "output_type": "execute_result"
    }
   ],
   "source": [
    "df_dups"
   ]
  },
  {
   "cell_type": "markdown",
   "id": "9526c2d0",
   "metadata": {},
   "source": [
    "#### No full duplicates were found"
   ]
  },
  {
   "cell_type": "markdown",
   "id": "712e7a03",
   "metadata": {},
   "source": [
    "### 5. Report number of records in dataframe"
   ]
  },
  {
   "cell_type": "code",
   "execution_count": 23,
   "id": "32b7647d",
   "metadata": {},
   "outputs": [
    {
     "data": {
      "text/plain": [
       "(32434489, 4)"
      ]
     },
     "execution_count": 23,
     "metadata": {},
     "output_type": "execute_result"
    }
   ],
   "source": [
    "df_ords_prods.shape"
   ]
  },
  {
   "cell_type": "code",
   "execution_count": null,
   "id": "0c1e6173",
   "metadata": {},
   "outputs": [],
   "source": []
  }
 ],
 "metadata": {
  "kernelspec": {
   "display_name": "Python 3 (ipykernel)",
   "language": "python",
   "name": "python3"
  },
  "language_info": {
   "codemirror_mode": {
    "name": "ipython",
    "version": 3
   },
   "file_extension": ".py",
   "mimetype": "text/x-python",
   "name": "python",
   "nbconvert_exporter": "python",
   "pygments_lexer": "ipython3",
   "version": "3.10.9"
  }
 },
 "nbformat": 4,
 "nbformat_minor": 5
}
